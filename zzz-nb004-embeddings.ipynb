{
 "cells": [
  {
   "cell_type": "markdown",
   "id": "465c003a-29cf-4cfe-a0c6-d36c04ae2b37",
   "metadata": {},
   "source": [
    "# Embeddings\n",
    "* Transform the small parts of text in numbers (vectors) that are easily stored and searched by vector databases."
   ]
  },
  {
   "cell_type": "markdown",
   "id": "be46161e-45e9-46d7-8214-bcbea10aff2e",
   "metadata": {},
   "source": [
    "## Setup"
   ]
  },
  {
   "cell_type": "markdown",
   "id": "871e0018-cba4-4959-881a-0a65093d202d",
   "metadata": {},
   "source": [
    "#### After you download the code from the github repository in your computer\n",
    "In terminal:\n",
    "* cd project_name\n",
    "* pyenv local 3.11.4\n",
    "* poetry install\n",
    "* poetry shell"
   ]
  },
  {
   "cell_type": "markdown",
   "id": "4065e336-d054-412c-8a3f-1fbec63e1bcd",
   "metadata": {},
   "source": [
    "#### To open the notebook with Jupyter Notebooks\n",
    "In terminal:\n",
    "* jupyter lab\n",
    "\n",
    "Go to the folder of notebooks and open the right notebook."
   ]
  },
  {
   "cell_type": "markdown",
   "id": "62dda8d4-80cf-4b8f-9981-94edda5e9911",
   "metadata": {},
   "source": [
    "#### To see the code in Virtual Studio Code or your editor of choice.\n",
    "* open Virtual Studio Code or your editor of choice.\n",
    "* open the project-folder\n",
    "* open the 003-embeddings.py file"
   ]
  },
  {
   "cell_type": "markdown",
   "id": "af743328-1bc8-4b01-85fb-fcb21c6499c2",
   "metadata": {},
   "source": [
    "## Create your .env file\n",
    "* In the github repo we have included a file named .env.example\n",
    "* Rename that file to .env file and here is where you will add your confidential api keys. Remember to include:\n",
    "* OPENAI_API_KEY=your_openai_api_key\n",
    "* LANGCHAIN_TRACING_V2=true\n",
    "* LANGCHAIN_ENDPOINT=https://api.smith.langchain.com\n",
    "* LANGCHAIN_API_KEY=your_langchain_api_key\n",
    "* LANGCHAIN_PROJECT=your_project_name"
   ]
  },
  {
   "cell_type": "markdown",
   "id": "863dd299-0780-49ad-a1b7-b76e249350da",
   "metadata": {},
   "source": [
    "We will call our LangSmith project **003-embeddings**."
   ]
  },
  {
   "cell_type": "markdown",
   "id": "40e766aa-f3e2-491f-be99-d0c6b700d47a",
   "metadata": {},
   "source": [
    "## Track operations\n",
    "From now on, we can track the operations **and the cost** of this project from LangSmith:\n",
    "* [smith.langchain.com](https://smith.langchain.com)"
   ]
  },
  {
   "cell_type": "markdown",
   "id": "4f99504a-1b8f-4360-b342-0b81ffa06aff",
   "metadata": {},
   "source": [
    "## Connect with the .env file located in the same directory of this notebook"
   ]
  },
  {
   "cell_type": "markdown",
   "id": "e39e5789-5bde-42e1-88dd-92dc8e363c24",
   "metadata": {},
   "source": [
    "If you are using the pre-loaded poetry shell, you do not need to install the following package because it is already pre-loaded for you:"
   ]
  },
  {
   "cell_type": "code",
   "execution_count": null,
   "id": "c5514113-ddca-4ae9-9de6-0b9225b18f3c",
   "metadata": {},
   "outputs": [],
   "source": [
    "#pip install python-dotenv"
   ]
  },
  {
   "cell_type": "code",
   "execution_count": 1,
   "id": "fecd39d0-e72e-4bc2-8a68-2fa4008ea365",
   "metadata": {},
   "outputs": [],
   "source": [
    "import os\n",
    "from dotenv import load_dotenv, find_dotenv\n",
    "_ = load_dotenv(find_dotenv())\n",
    "openai_api_key = os.environ[\"OPENAI_API_KEY\"]"
   ]
  },
  {
   "cell_type": "markdown",
   "id": "03f4a923-b19e-498e-9be5-e47ec4a77d80",
   "metadata": {},
   "source": [
    "#### Install LangChain"
   ]
  },
  {
   "cell_type": "markdown",
   "id": "9fef1e5c-b7e2-4a04-96c5-8f64377b8eba",
   "metadata": {},
   "source": [
    "If you are using the pre-loaded poetry shell, you do not need to install the following package because it is already pre-loaded for you:"
   ]
  },
  {
   "cell_type": "code",
   "execution_count": 3,
   "id": "c1cf94ae-6c39-4475-9c5b-4b74d8d78753",
   "metadata": {},
   "outputs": [],
   "source": [
    "#!pip install langchain"
   ]
  },
  {
   "cell_type": "markdown",
   "id": "189e9e17-dfb0-4fd3-85b9-1fba83771941",
   "metadata": {},
   "source": [
    "## Connect with an LLM"
   ]
  },
  {
   "cell_type": "markdown",
   "id": "b21d23f4-61f5-4227-8a75-7eefde6680ee",
   "metadata": {},
   "source": [
    "If you are using the pre-loaded poetry shell, you do not need to install the following package because it is already pre-loaded for you:"
   ]
  },
  {
   "cell_type": "code",
   "execution_count": 4,
   "id": "148df8e0-361d-4ddd-8709-af48fa1648d1",
   "metadata": {},
   "outputs": [],
   "source": [
    "#!pip install langchain-openai"
   ]
  },
  {
   "cell_type": "markdown",
   "id": "a1998155-91de-4cbc-bc88-8d77beefb51b",
   "metadata": {},
   "source": [
    "* NOTE: Since right now is the best LLM in the market, we will use OpenAI by default. You will see how to connect with other Open Source LLMs like Llama3 or Mistral in a next lesson."
   ]
  },
  {
   "cell_type": "code",
   "execution_count": null,
   "id": "48299a16-7d57-4f5c-94b1-f8fc5dcd1905",
   "metadata": {},
   "outputs": [],
   "source": [
    "from langchain_openai import ChatOpenAI\n",
    "\n",
    "chatModel = ChatOpenAI(model=\"gpt-3.5-turbo-0125\")"
   ]
  },
  {
   "cell_type": "markdown",
   "id": "c811b84c-7054-49dd-b0ac-30f327f648a0",
   "metadata": {},
   "source": [
    "## Reminder: Steps of the RAG process.\n",
    "* When you load a document, you end up with strings. Sometimes the strings will be too large to fit into the context window. In those occassions we will use the RAG technique:\n",
    "    * Split document in small chunks.\n",
    "    * **Transform text chunks in numeric chunks (embeddings)**.\n",
    "    * Load embeddings to a vector database (aka vector store).\n",
    "    * Load question and retrieve the most relevant embeddings to respond it.\n",
    "    * Sent the embeddings to the LLM to format the response properly."
   ]
  },
  {
   "cell_type": "markdown",
   "id": "04f6786d-16d2-4894-b8ef-95a7ebd19a94",
   "metadata": {},
   "source": [
    "## Splitters: divide the loaded document in small chunks of text\n",
    "* Also called \"Document Transformers\".\n",
    "* See the documentation page [here](https://python.langchain.com/v0.1/docs/modules/data_connection/document_transformers/).\n",
    "* See the list of built-in splitters [here](https://python.langchain.com/v0.1/docs/integrations/document_transformers/)."
   ]
  },
  {
   "cell_type": "markdown",
   "id": "b8de5c1e-1426-4cc8-8588-4ab7f1ffbcd0",
   "metadata": {},
   "source": [
    "#### Simple splitting by character"
   ]
  },
  {
   "cell_type": "code",
   "execution_count": 34,
   "id": "aba8ec6a-9988-493f-9bc2-a1d72eb095b6",
   "metadata": {},
   "outputs": [],
   "source": [
    "from langchain_community.document_loaders import TextLoader\n",
    "\n",
    "loader = TextLoader(\"./data/be-good.txt\")\n",
    "\n",
    "loaded_data = loader.load()"
   ]
  },
  {
   "cell_type": "code",
   "execution_count": 1,
   "id": "9080df7c-9e81-4d2d-8713-9345e2ac8c54",
   "metadata": {},
   "outputs": [],
   "source": [
    "#loaded_data"
   ]
  },
  {
   "cell_type": "code",
   "execution_count": 2,
   "id": "7ecb63be-4c91-4bec-ba71-5d05dc962722",
   "metadata": {},
   "outputs": [],
   "source": [
    "#loaded_data[0].page_content"
   ]
  },
  {
   "cell_type": "code",
   "execution_count": 35,
   "id": "063a35f4-da0c-4915-978d-be3d9f70befa",
   "metadata": {},
   "outputs": [],
   "source": [
    "from langchain_text_splitters import CharacterTextSplitter\n",
    "\n",
    "text_splitter = CharacterTextSplitter(\n",
    "    separator=\"\\n\\n\",\n",
    "    chunk_size=1000,\n",
    "    chunk_overlap=200,\n",
    "    length_function=len,\n",
    "    is_separator_regex=False,\n",
    ")"
   ]
  },
  {
   "cell_type": "code",
   "execution_count": 47,
   "id": "1a1f58df-c7b1-491c-93a1-c065591b28e4",
   "metadata": {},
   "outputs": [],
   "source": [
    "texts = text_splitter.create_documents([loaded_data[0].page_content])"
   ]
  },
  {
   "cell_type": "code",
   "execution_count": 53,
   "id": "8c2bf32e-3cc8-4b59-bc8d-5617b37a62fb",
   "metadata": {},
   "outputs": [
    {
     "data": {
      "text/plain": [
       "2"
      ]
     },
     "execution_count": 53,
     "metadata": {},
     "output_type": "execute_result"
    }
   ],
   "source": [
    "len(texts)"
   ]
  },
  {
   "cell_type": "code",
   "execution_count": 48,
   "id": "97c9e310-597b-46aa-accf-69eeda77f7f5",
   "metadata": {},
   "outputs": [
    {
     "data": {
      "text/plain": [
       "Document(page_content='Be good')"
      ]
     },
     "execution_count": 48,
     "metadata": {},
     "output_type": "execute_result"
    }
   ],
   "source": [
    "texts[0]"
   ]
  },
  {
   "cell_type": "code",
   "execution_count": 54,
   "id": "297dd163-7d2c-476b-b332-c2bf232461d5",
   "metadata": {},
   "outputs": [],
   "source": [
    "# texts[1]"
   ]
  },
  {
   "cell_type": "markdown",
   "id": "b8c9b427-4002-4995-9db4-63d5afa9403c",
   "metadata": {},
   "source": [
    "#### Splitting with metadata"
   ]
  },
  {
   "cell_type": "code",
   "execution_count": 55,
   "id": "becc89c4-ec8c-468a-af28-711184d9c75c",
   "metadata": {},
   "outputs": [],
   "source": [
    "metadatas = [{\"chunk\": 0}, {\"chunk\": 1}]\n",
    "\n",
    "documents = text_splitter.create_documents(\n",
    "    [loaded_data[0].page_content, loaded_data[0].page_content], \n",
    "    metadatas=metadatas\n",
    ")"
   ]
  },
  {
   "cell_type": "code",
   "execution_count": 58,
   "id": "2f32ee1a-dcbc-4906-9e26-ff1c00f43e30",
   "metadata": {},
   "outputs": [
    {
     "data": {
      "text/plain": [
       "Document(page_content='Be good', metadata={'chunk': 0})"
      ]
     },
     "execution_count": 58,
     "metadata": {},
     "output_type": "execute_result"
    }
   ],
   "source": [
    "documents[0]"
   ]
  },
  {
   "cell_type": "code",
   "execution_count": 59,
   "id": "a892bfb2-d1ab-4e9d-a4b2-25a4a6319577",
   "metadata": {},
   "outputs": [
    {
     "name": "stdout",
     "output_type": "stream",
     "text": [
      "page_content='Be good' metadata={'chunk': 0}\n"
     ]
    }
   ],
   "source": [
    "print(documents[0])"
   ]
  },
  {
   "cell_type": "markdown",
   "id": "c9e6edae-a834-4142-ad7f-5691743149de",
   "metadata": {},
   "source": [
    "## Embeddings: transform chunks of text in chunks of numbers\n",
    "* Vector databases work very fast with numbers.\n",
    "* See the documentation page [here](https://python.langchain.com/v0.1/docs/modules/data_connection/text_embedding/).\n",
    "* See the list of embedding model providers [here](https://python.langchain.com/v0.1/docs/integrations/text_embedding/).\n",
    "* **The base Embeddings class in LangChain provides two methods: one for embedding documents and one for embedding a query**."
   ]
  },
  {
   "cell_type": "code",
   "execution_count": 60,
   "id": "05cb4bba-e086-4548-ad45-b5e49a4c0a47",
   "metadata": {},
   "outputs": [],
   "source": [
    "from langchain_openai import OpenAIEmbeddings\n",
    "\n",
    "embeddings_model = OpenAIEmbeddings()"
   ]
  },
  {
   "cell_type": "code",
   "execution_count": 72,
   "id": "930877dc-b2e3-4052-8302-52d1244deb98",
   "metadata": {},
   "outputs": [],
   "source": [
    "chunks_of_text =     [\n",
    "        \"Hi there!\",\n",
    "        \"Hello!\",\n",
    "        \"What's your name?\",\n",
    "        \"Bond, James Bond\",\n",
    "        \"Hello Bond!\"\n",
    "    ]"
   ]
  },
  {
   "cell_type": "code",
   "execution_count": 73,
   "id": "525199a0-8229-4b86-aec3-3c5fb0dc19b2",
   "metadata": {},
   "outputs": [],
   "source": [
    "embeddings = embeddings_model.embed_documents(chunks_of_text)"
   ]
  },
  {
   "cell_type": "code",
   "execution_count": 69,
   "id": "c2ce6168-3e42-4689-8d90-316aa4934959",
   "metadata": {},
   "outputs": [
    {
     "data": {
      "text/plain": [
       "5"
      ]
     },
     "execution_count": 69,
     "metadata": {},
     "output_type": "execute_result"
    }
   ],
   "source": [
    "len(embeddings)"
   ]
  },
  {
   "cell_type": "code",
   "execution_count": 70,
   "id": "5c2798ac-951f-4e54-b95c-e33494ff436c",
   "metadata": {},
   "outputs": [
    {
     "data": {
      "text/plain": [
       "1536"
      ]
     },
     "execution_count": 70,
     "metadata": {},
     "output_type": "execute_result"
    }
   ],
   "source": [
    "len(embeddings[0])"
   ]
  },
  {
   "cell_type": "code",
   "execution_count": 74,
   "id": "9db5e4bd-9373-4b02-8116-26949113dbf6",
   "metadata": {},
   "outputs": [
    {
     "name": "stdout",
     "output_type": "stream",
     "text": [
      "[-0.020291371271014214, -0.007072774693369865, -0.022869061678647995, -0.02623402513563633, -0.03748443350195885]\n"
     ]
    }
   ],
   "source": [
    "print(embeddings[0][:5])"
   ]
  },
  {
   "cell_type": "code",
   "execution_count": 75,
   "id": "eeb48ccb-346a-4394-893e-dca63af4317d",
   "metadata": {},
   "outputs": [],
   "source": [
    "embedded_query = embeddings_model.embed_query(\"What was the name mentioned in the conversation?\")"
   ]
  },
  {
   "cell_type": "code",
   "execution_count": 76,
   "id": "2327893b-c3f2-444c-acd9-d44459e9a26d",
   "metadata": {},
   "outputs": [
    {
     "data": {
      "text/plain": [
       "1536"
      ]
     },
     "execution_count": 76,
     "metadata": {},
     "output_type": "execute_result"
    }
   ],
   "source": [
    "len(embedded_query)"
   ]
  },
  {
   "cell_type": "markdown",
   "id": "dbc24f4f-d23c-4202-992d-91b0623136ae",
   "metadata": {},
   "source": [
    "## How to execute the code from Visual Studio Code\n",
    "* In Visual Studio Code, see the file 003-embeddings.py\n",
    "* In terminal, make sure you are in the directory of the file and run:\n",
    "    * python 003-embeddings.py"
   ]
  },
  {
   "cell_type": "code",
   "execution_count": null,
   "id": "b1af248e-6069-44b3-a2cd-a20aa3259874",
   "metadata": {},
   "outputs": [],
   "source": []
  }
 ],
 "metadata": {
  "kernelspec": {
   "display_name": "Python 3 (ipykernel)",
   "language": "python",
   "name": "python3"
  },
  "language_info": {
   "codemirror_mode": {
    "name": "ipython",
    "version": 3
   },
   "file_extension": ".py",
   "mimetype": "text/x-python",
   "name": "python",
   "nbconvert_exporter": "python",
   "pygments_lexer": "ipython3",
   "version": "3.11.4"
  }
 },
 "nbformat": 4,
 "nbformat_minor": 5
}
